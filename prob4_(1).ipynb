{
 "cells": [
  {
   "cell_type": "code",
   "execution_count": 7,
   "id": "6042ad7b",
   "metadata": {},
   "outputs": [
    {
     "name": "stdout",
     "output_type": "stream",
     "text": [
      "0->2->5->1->3->4->None\n"
     ]
    }
   ],
   "source": [
    "class CircularQueue:\n",
    "    def __init__(self, size):\n",
    "        self.SIZE = size\n",
    "        self.queue = [None] * self.SIZE\n",
    "        self.front = self.rear = 0\n",
    "\n",
    "    def is_queue_full(self):\n",
    "        return (self.rear + 1) % self.SIZE == self.front\n",
    "\n",
    "    def is_queue_empty(self):\n",
    "        return self.front == self.rear\n",
    "\n",
    "    def enqueue(self, data):\n",
    "        if self.is_queue_full():\n",
    "            print(\"큐가 꽉 찼습니다.\")\n",
    "            return\n",
    "        self.rear = (self.rear + 1) % self.SIZE\n",
    "        self.queue[self.rear] = data\n",
    "\n",
    "    def dequeue(self):\n",
    "        if self.is_queue_empty():\n",
    "            print(\"큐가 비었습니다.\")\n",
    "            return None\n",
    "        self.front = (self.front + 1) % self.SIZE\n",
    "        data = self.queue[self.front]\n",
    "        self.queue[self.front] = None\n",
    "        return data\n",
    "\n",
    "\n",
    "def bfs(graph, start):\n",
    "    visited = set() # 이미 방문한 노드를 기록\n",
    "    queue = CircularQueue(len(graph))\n",
    "\n",
    "    queue.enqueue(start) # 시작노드를 큐에 추가하고 방문여부 기록\n",
    "    visited.add(start)\n",
    "\n",
    "    while not queue.is_queue_empty(): # 큐가 비어있지 않은 동안 반복\n",
    "        node = queue.dequeue()\n",
    "        print(node, end='->')\n",
    "\n",
    "        for neighbor in range(len(graph)): # 현재 노드에 연결된 이웃노드 확인\n",
    "            if graph[node][neighbor] == 1 and neighbor not in visited: # 이웃이 연결되어 있고, 아직 방문하지 않은 경우 큐에 추가하고 방문여부 기록\n",
    "                queue.enqueue(neighbor)\n",
    "                visited.add(neighbor)\n",
    "\n",
    "    print('None')\n",
    "\n",
    "\n",
    "# 전역 변수 선언 부분\n",
    "SIZE = 6\n",
    "# 그래프 문제 예시 (인접 행렬로 표현)\n",
    "graph = [\n",
    "    [0, 0, 1, 0, 0, 1],\n",
    "    [0, 0, 1, 0, 1, 0],\n",
    "    [1, 1, 0, 1, 1, 0],\n",
    "    [0, 0, 1, 0, 1, 0],\n",
    "    [0, 1, 1, 1, 0, 1],\n",
    "    [1, 0, 0, 0, 1, 0]\n",
    "]\n",
    "\n",
    "bfs(graph, 0)\n"
   ]
  },
  {
   "cell_type": "code",
   "execution_count": null,
   "id": "d0134b3c",
   "metadata": {},
   "outputs": [],
   "source": []
  }
 ],
 "metadata": {
  "kernelspec": {
   "display_name": "Python 3 (ipykernel)",
   "language": "python",
   "name": "python3"
  },
  "language_info": {
   "codemirror_mode": {
    "name": "ipython",
    "version": 3
   },
   "file_extension": ".py",
   "mimetype": "text/x-python",
   "name": "python",
   "nbconvert_exporter": "python",
   "pygments_lexer": "ipython3",
   "version": "3.10.9"
  }
 },
 "nbformat": 4,
 "nbformat_minor": 5
}
