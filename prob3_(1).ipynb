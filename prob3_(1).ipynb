{
 "cells": [
  {
   "cell_type": "code",
   "execution_count": 18,
   "id": "9148b608",
   "metadata": {},
   "outputs": [
    {
     "name": "stdout",
     "output_type": "stream",
     "text": [
      "랜덤 숫자 리스트: [9, 19, 32, 1, 18, 39, 10, 50, 22, 15, 1, 39, 37, 42, 19, 9, 41, 44, 7, 31, 8, 30, 24, 14, 18, 44, 11, 8, 18, 29, 40, 3, 14, 7, 11, 8, 27, 31, 13, 39, 18, 46, 2, 34, 26, 18, 39, 41, 26, 36, 38, 44, 16, 17, 14, 17, 1, 33, 2, 34, 21, 29, 23, 26, 44, 21, 33, 46, 43, 50, 12, 5, 33, 21, 35, 32, 26, 35, 24, 35, 7, 22, 49, 25, 44, 15, 36, 46, 2, 22, 40, 37, 35, 18, 15, 47, 20, 28, 48, 15, 26, 25, 3, 41, 33, 28, 10, 3, 27, 1, 33, 4, 25, 42, 42, 35, 5, 48, 22, 43, 6, 24, 23, 46, 32, 38, 40, 14, 20, 49, 41, 20, 38, 25, 2, 42, 45, 50, 20, 31, 9, 1, 4, 34, 38, 29, 28, 18, 10, 2, 28, 44, 23, 14, 41, 1, 10, 4, 33, 48, 6, 44, 15, 6, 38, 34, 34, 31, 41, 49, 8, 16, 40, 23, 16, 5, 48, 7, 9, 43, 36, 41, 41, 7, 11, 44, 29, 5, 32, 35, 14, 40, 19, 2, 39, 37, 11, 43, 7, 41, 20, 20, 6, 19, 35, 42, 28, 10, 36, 42, 33, 37, 33, 12, 8, 43, 9, 32, 11, 5, 10, 48, 19, 7, 37, 9, 22, 42, 39, 21, 29, 28, 30, 43, 40, 7, 9, 42, 11, 27, 37, 15, 30, 19, 42, 40, 14, 42, 47, 27, 4, 3, 34, 11, 4, 24, 39, 34, 28, 34, 26, 6, 25, 3, 40, 30, 21, 23, 46, 49, 8, 27, 23, 29, 44, 9, 24, 14, 6, 26, 42, 27, 25, 49, 39, 24, 26, 40, 27, 23, 13, 49, 46, 19, 8, 21, 6, 22, 18, 14]\n",
      "\n",
      "중복된 숫자: [2, 42, 1, 5, 21, 3, 10, 7, 9, 6, 4, 8, 19, 23, 36, 14, 15, 11, 12, 20, 24, 16, 17, 22, 18, 26, 27, 25, 35, 40, 32, 29, 34, 30, 28, 33, 31, 38, 37, 39, 44, 41, 43, 48, 50, 46, 45, 49]\n"
     ]
    }
   ],
   "source": [
    "def quickSort(arr, start, end, duplicates):\n",
    "    if end <= start: #base case\n",
    "        return\n",
    "\n",
    "    low = start\n",
    "    high = end\n",
    "    pivot = arr[(start + end) // 2]\n",
    "\n",
    "    while low <= high:\n",
    "        while arr[low] < pivot:\n",
    "            low += 1\n",
    "\n",
    "        while arr[high] > pivot:\n",
    "            high -= 1\n",
    "\n",
    "        if low <= high:\n",
    "            arr[low], arr[high] = arr[high], arr[low]\n",
    "            low, high = low + 1, high - 1\n",
    "\n",
    "    mid = low  # pivot\n",
    "\n",
    "    # 중복된 숫자를 찾아 duplicates 리스트에 추가\n",
    "    if mid - start > 1:\n",
    "        for i in range(start, mid - 1):\n",
    "            if arr[i] == arr[mid - 1] and arr[i] not in duplicates:\n",
    "                duplicates.append(arr[i])\n",
    "\n",
    "    if end - mid > 1:\n",
    "        for i in range(mid + 1, end):\n",
    "            if arr[i] == arr[mid + 1] and arr[i] not in duplicates:\n",
    "                duplicates.append(arr[i])\n",
    "\n",
    "    quickSort(arr, start, mid - 1, duplicates) # 왼쪽 부분 배열을 재귀적으로 정렬\n",
    "    quickSort(arr, mid + 1, end, duplicates) # 오른쪽 부분 배열을 재귀적으로 정렬\n",
    "\n",
    "if __name__ == \"__main__\":\n",
    "    arr = [random.randint(1, 50) for _ in range(300)]\n",
    "    print(\"랜덤 숫자 리스트:\", arr)\n",
    "    print()\n",
    "\n",
    "    duplicates = []\n",
    "    quickSort(arr, 0, len(arr) - 1, duplicates)\n",
    "\n",
    "    if duplicates:\n",
    "        print(\"중복된 숫자:\", duplicates)\n",
    "    else:\n",
    "        print(\"중복된 숫자 없음\")\n"
   ]
  },
  {
   "cell_type": "code",
   "execution_count": null,
   "id": "f2a14f18",
   "metadata": {},
   "outputs": [],
   "source": []
  }
 ],
 "metadata": {
  "kernelspec": {
   "display_name": "Python 3 (ipykernel)",
   "language": "python",
   "name": "python3"
  },
  "language_info": {
   "codemirror_mode": {
    "name": "ipython",
    "version": 3
   },
   "file_extension": ".py",
   "mimetype": "text/x-python",
   "name": "python",
   "nbconvert_exporter": "python",
   "pygments_lexer": "ipython3",
   "version": "3.10.9"
  }
 },
 "nbformat": 4,
 "nbformat_minor": 5
}
