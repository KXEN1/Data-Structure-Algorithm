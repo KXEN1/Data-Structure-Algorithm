{
 "cells": [
  {
   "cell_type": "code",
   "execution_count": 1,
   "id": "7df996d3",
   "metadata": {},
   "outputs": [
    {
     "name": "stdout",
     "output_type": "stream",
     "text": [
      "스택의 크기 입력 5\n",
      "[None, None, None, None, None]\n"
     ]
    }
   ],
   "source": [
    "# list comprehension\n",
    "\n",
    "SIZE = int(input('스택의 크기 입력 '))\n",
    "\n",
    "#code1\n",
    "#stack = [ ]\n",
    "#for i in range(SIZE):\n",
    "    #stack.append(None)\n",
    "\n",
    "#code2\n",
    "#stack = [ ]\n",
    "#for _ in range(SIZE):\n",
    "    #stack.append(None)\n",
    "\n",
    "#code3\n",
    "stack =[None for _ in range(SIZE)]\n",
    "\n",
    "print(stack)"
   ]
  },
  {
   "cell_type": "code",
   "execution_count": 7,
   "id": "cdd59330",
   "metadata": {},
   "outputs": [
    {
     "name": "stdout",
     "output_type": "stream",
     "text": [
      "['진달래꽃\\n', '나 보기가 역겨워\\n', '가실 때에는\\n', '말없이 고이 보내드리오리다.']\n"
     ]
    }
   ],
   "source": [
    "#File 10\n",
    "with open(\"진달래꽃.txt\", \"r\", encoding = \"UTF-8\") as f:\n",
    "    lineAry = f.readlines() # list\n",
    "\n",
    "print(lineAry)\n"
   ]
  },
  {
   "cell_type": "code",
   "execution_count": 18,
   "id": "baf61269",
   "metadata": {},
   "outputs": [
    {
     "name": "stdout",
     "output_type": "stream",
     "text": [
      "-----스택-----\n",
      "None\n",
      "None\n",
      "None\n",
      "None\n",
      "None\n",
      "꿀물\n",
      "녹차\n",
      "커피\n",
      "----------\n",
      "pop--> 꿀물\n",
      "pop--> 녹차\n",
      "pop--> 커피\n",
      "-----스택 상태-----\n",
      "None\n",
      "None\n",
      "None\n",
      "None\n",
      "None\n",
      "None\n",
      "None\n",
      "None\n"
     ]
    }
   ],
   "source": [
    "SIZE = 8\n",
    "stack = [None for _ in range(SIZE)]\n",
    "top = -1\n",
    "\n",
    "top += 1\n",
    "stack[top] = \"커피\"\n",
    "\n",
    "top += 1\n",
    "stack[top] = \"녹차\"\n",
    "\n",
    "top += 1\n",
    "stack[top] = \"꿀물\"\n",
    "\n",
    "print(\"-----스택-----\")\n",
    "for i in range(len(stack)-1, -1, -1):\n",
    "    print(stack[i])\n",
    "    \n",
    "print(\"----------\")\n",
    "data = stack[top]\n",
    "stack[top] = None\n",
    "top -=1\n",
    "print(\"pop-->\", data)\n",
    "\n",
    "data = stack[top]\n",
    "stack[top] = None\n",
    "top -=1\n",
    "print(\"pop-->\", data)\n",
    "\n",
    "data = stack[top]\n",
    "stack[top] = None\n",
    "top -=1\n",
    "print(\"pop-->\", data)\n",
    "\n",
    "print(\"-----스택 상태-----\")\n",
    "for i in range(len(stack)-1, -1, -1):\n",
    "    print(stack[i])\n"
   ]
  },
  {
   "cell_type": "code",
   "execution_count": null,
   "id": "d7413211",
   "metadata": {},
   "outputs": [],
   "source": []
  },
  {
   "cell_type": "code",
   "execution_count": null,
   "id": "92712b90",
   "metadata": {},
   "outputs": [],
   "source": []
  }
 ],
 "metadata": {
  "kernelspec": {
   "display_name": "Python 3 (ipykernel)",
   "language": "python",
   "name": "python3"
  },
  "language_info": {
   "codemirror_mode": {
    "name": "ipython",
    "version": 3
   },
   "file_extension": ".py",
   "mimetype": "text/x-python",
   "name": "python",
   "nbconvert_exporter": "python",
   "pygments_lexer": "ipython3",
   "version": "3.10.9"
  }
 },
 "nbformat": 4,
 "nbformat_minor": 5
}
