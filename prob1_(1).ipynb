{
 "cells": [
  {
   "cell_type": "code",
   "execution_count": 5,
   "id": "1c594784",
   "metadata": {},
   "outputs": [
    {
     "name": "stdout",
     "output_type": "stream",
     "text": [
      "출발 정점을 입력하세요: 3\n",
      "출발 정점 3으로부터 도착 정점 0까지의 최단거리: 9\n",
      "출발 정점 3으로부터 도착 정점 1까지의 최단거리: 11\n",
      "출발 정점 3으로부터 도착 정점 2까지의 최단거리: 5\n",
      "출발 정점 3으로부터 도착 정점 4까지의 최단거리: 2\n",
      "출발 정점 3으로부터 도착 정점 5까지의 최단거리: 5\n"
     ]
    }
   ],
   "source": [
    "import heapq\n",
    "\n",
    "class DijkstraPriorityQueue:\n",
    "    def __init__(self, graph):\n",
    "        self.graph = graph\n",
    "        self.num_nodes = len(graph)\n",
    "        self.distance = [float('inf')] * self.num_nodes\n",
    "        self.priority_queue = []\n",
    "\n",
    "    def relax(self, current_node, neighbor, new_distance):\n",
    "        if new_distance < self.distance[neighbor]:\n",
    "            self.distance[neighbor] = new_distance  # 최단 거리 갱신\n",
    "            heapq.heappush(self.priority_queue, (new_distance, neighbor))\n",
    "\n",
    "    def dijkstra(self, start):\n",
    "        self.distance[start] = 0\n",
    "        self.priority_queue = [(0, start)]\n",
    "\n",
    "        while self.priority_queue:\n",
    "            current_distance, current_node = heapq.heappop(self.priority_queue)\n",
    "\n",
    "            for neighbor, weight in self.graph[current_node]:\n",
    "                new_distance = current_distance + weight\n",
    "                self.relax(current_node, neighbor, new_distance)\n",
    "\n",
    "        return self.distance\n",
    "\n",
    "def get_shortest_path(graph, start_node):\n",
    "    dijkstra_obj = DijkstraPriorityQueue(graph) # 인스턴스 생성\n",
    "    distances = dijkstra_obj.dijkstra(start_node) # Dijkstra 알고리즘을 사용하여 출발 정점에서 각 정점까지의 최단 거리 계산\n",
    "\n",
    "    for i in range(len(distances)):\n",
    "        if i != start_node:\n",
    "            print(f\"출발 정점 {start_node}으로부터 도착 정점 {i}까지의 최단거리: {distances[i]}\")\n",
    "\n",
    "if __name__ == \"__main__\":\n",
    "    # 그래프의 인접리스트를 미리 정의\n",
    "    graph = [\n",
    "        [(1, 2), (2, 4)], # 정점 A - 0 \n",
    "        [(2, 1)], # 정점 B - 1\n",
    "        [(0, 4), (3, 7)], # 정점 C - 2\n",
    "        [(2, 5), (4, 2), (5, 6)], # 정점 D - 3\n",
    "        [(5, 3)], # 정점 E - 4\n",
    "        [(3, 6)] # 정점 F - 5\n",
    "    ]\n",
    "\n",
    "    start_node = int(input(\"출발 정점을 입력하세요: \"))\n",
    "    get_shortest_path(graph, start_node)\n"
   ]
  },
  {
   "cell_type": "code",
   "execution_count": null,
   "id": "9b90488c",
   "metadata": {},
   "outputs": [],
   "source": []
  }
 ],
 "metadata": {
  "kernelspec": {
   "display_name": "Python 3 (ipykernel)",
   "language": "python",
   "name": "python3"
  },
  "language_info": {
   "codemirror_mode": {
    "name": "ipython",
    "version": 3
   },
   "file_extension": ".py",
   "mimetype": "text/x-python",
   "name": "python",
   "nbconvert_exporter": "python",
   "pygments_lexer": "ipython3",
   "version": "3.10.9"
  }
 },
 "nbformat": 4,
 "nbformat_minor": 5
}
