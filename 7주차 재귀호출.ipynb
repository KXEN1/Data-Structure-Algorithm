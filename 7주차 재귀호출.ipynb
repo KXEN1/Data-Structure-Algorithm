{
 "cells": [
  {
   "cell_type": "code",
   "execution_count": 4,
   "id": "8eb17072",
   "metadata": {},
   "outputs": [
    {
     "data": {
      "text/plain": [
       "1000000"
      ]
     },
     "execution_count": 4,
     "metadata": {},
     "output_type": "execute_result"
    }
   ],
   "source": [
    "import sys\n",
    "limit = sys.getrecursionlimit()\n",
    "\n",
    "sys.setrecursionlimit(1000000)\n",
    "linit = sys.getrecursionlimit()\n",
    "\n",
    "limit"
   ]
  },
  {
   "cell_type": "code",
   "execution_count": 1,
   "id": "5d6d10a3",
   "metadata": {},
   "outputs": [
    {
     "name": "stdout",
     "output_type": "stream",
     "text": [
      "3: 종이 상자를 엽니다. ^^\n",
      "2: 종이 상자를 엽니다. ^^\n",
      "1: 종이 상자를 엽니다. ^^\n",
      "0: 반지를 넣고 종이 상자를 닫습니다. ^^\n",
      "0: 종이 상자를 닫습니다.\n",
      "0: 종이 상자를 닫습니다.\n"
     ]
    }
   ],
   "source": [
    "# openbox 열기 및 닫기를 재귀함수로 \n",
    "def openBox():\n",
    "    global count\n",
    "    print(f\"{count}: 종이 상자를 엽니다. ^^\")\n",
    "    \n",
    "    # base case\n",
    "    count -= 1\n",
    "    if count == 0:\n",
    "        print(f\"{count}: 반지를 넣고 종이 상자를 닫습니다. ^^\")\n",
    "        \n",
    "        return\n",
    "    \n",
    "    # recursive call\n",
    "    openBox()\n",
    "    print(f\"{count}: 종이 상자를 닫습니다.\")\n",
    "    \n",
    "## 함수 호출\n",
    "if __name__ == \"__main__\":\n",
    "    count = 3\n",
    "    openBox() # 1th call"
   ]
  },
  {
   "cell_type": "code",
   "execution_count": 14,
   "id": "b1a8475b",
   "metadata": {},
   "outputs": [
    {
     "name": "stdout",
     "output_type": "stream",
     "text": [
      "3\n",
      "2\n",
      "1\n",
      "0\n"
     ]
    }
   ],
   "source": [
    "# 재귀함수의 동작과정 이해\n",
    "# 함수 선언\n",
    "def fn(num):\n",
    "    print(num)\n",
    "    if num == 0:\n",
    "        return\n",
    "    fn(num-1) # 입력의 크기를 감소\n",
    "    \n",
    "# 메인코드\n",
    "fn(3)"
   ]
  },
  {
   "cell_type": "code",
   "execution_count": 22,
   "id": "9cd9cd4a",
   "metadata": {},
   "outputs": [
    {
     "name": "stdout",
     "output_type": "stream",
     "text": [
      "임의의 숫자를 입력하세요: 10\n",
      "10부터 1까지의 합계는 55입니다.\n",
      "10부터 1까지의 합계는 55입니다.\n"
     ]
    }
   ],
   "source": [
    "### 문제: 자연수 num부터 1까지의 합을 구하기 (code10-3.py)\n",
    "# 반복문을 사용한 함수의 시간복잡도: 0(n)\n",
    "# 반복문을 사용한 함수의 공간복잡도: 0(1)\n",
    "\n",
    "# 재귀호출을 사용한 함수의 시간복잡도: 0(n)\n",
    "# 재귀호출을 사용한 함수의 공간복잡도: 0(1)\n",
    "\n",
    "def addNum_loop(num):\n",
    "    result = 0\n",
    "    for i in range(num, 0, -1):\n",
    "        result += i\n",
    "    return result\n",
    "\n",
    "def addNum_recur(num):\n",
    "    if num == 1:\n",
    "        return 1\n",
    "    \n",
    "    retVal = addNum_recur(num - 1)\n",
    "    return num + retVal\n",
    "\n",
    "if __name__ == \"__main__\":\n",
    "    num = int(input(\"임의의 숫자를 입력하세요: \"))\n",
    "    \n",
    "    result1 = addNum_loop(num)\n",
    "    result2 = addNum_recur(num)\n",
    "    print(f\"{num}부터 1까지의 합계는 {result1}입니다.\")\n",
    "    print(f\"{num}부터 1까지의 합계는 {result2}입니다.\")"
   ]
  },
  {
   "cell_type": "code",
   "execution_count": 26,
   "id": "48eb7940",
   "metadata": {},
   "outputs": [
    {
     "name": "stdout",
     "output_type": "stream",
     "text": [
      "임의의 숫자를 입력하세요: 4\n",
      "4! = 24\n",
      "\n",
      "1 반환\n",
      "4! = 24\n"
     ]
    }
   ],
   "source": [
    "### 문제: 팩토리얼 계산 (code10-4.py)\n",
    "# 반복문을 사용한 함수의 시간복잡도: 0(n)\n",
    "# 반복문을 사용한 함수의 공간복잡도: 0(1)\n",
    "\n",
    "# 재귀호출을 사용한 함수의 시간복잡도: 0(n)\n",
    "# 재귀호출을 사용한 함수의 공간복잡도: 0(n)\n",
    "\n",
    "def facto_loop(num):\n",
    "    if num == 0:\n",
    "        return 1\n",
    "    \n",
    "    factVal = 1\n",
    "    for n in range(num, 0, -1):\n",
    "        factVal *= n\n",
    "    return factVal\n",
    "\n",
    "def facto_recur(num):\n",
    "    if num == 1:\n",
    "        print(\"1 반환\")\n",
    "        return 1\n",
    "    \n",
    "    retVal = facto_recur(num - 1)\n",
    "    return num * retVal\n",
    "\n",
    "\n",
    "\n",
    "\n",
    "if __name__ == \"__main__\":\n",
    "    num = int(input(\"임의의 숫자를 입력하세요: \"))\n",
    "    \n",
    "    result1 = addNum_loop(num)\n",
    "    result2 = addNum_recur(num)\n",
    "    print(f\"{num}! = {facto_loop(num)}\")\n",
    "    print()\n",
    "    print(f\"{num}! = {facto_recur(num)}\")"
   ]
  },
  {
   "cell_type": "code",
   "execution_count": 30,
   "id": "62c75189",
   "metadata": {},
   "outputs": [
    {
     "name": "stdout",
     "output_type": "stream",
     "text": [
      "임의의 숫자를 입력하세요: 10\n",
      "$\n",
      "$$\n",
      "$$$\n",
      "$$$$\n",
      "$$$$$\n",
      "$$$$$$\n",
      "$$$$$$$\n",
      "$$$$$$$$\n",
      "$$$$$$$$$\n",
      "$$$$$$$$$$\n",
      "\n",
      "$\n",
      "$$\n",
      "$$$\n",
      "$$$$\n",
      "$$$$$\n",
      "$$$$$$\n",
      "$$$$$$$\n",
      "$$$$$$$$\n",
      "$$$$$$$$$\n",
      "$$$$$$$$$$\n"
     ]
    }
   ],
   "source": [
    "### 문제: 별모양 삼각형 그리기 (code10-6.py)\n",
    "# 반복문을 사용한 함수의 시간복잡도: 0(n)\n",
    "# 반복문을 사용한 함수의 공간복잡도: 0(1)\n",
    "\n",
    "# 재귀호출을 사용한 함수의 시간복잡도: 0(n)\n",
    "# 재귀호출을 사용한 함수의 공간복잡도: 0(n)\n",
    "\n",
    "def printStar_loop(n):\n",
    "    for i in range(1, n+1, 1):\n",
    "        print(\"$\" * i)\n",
    "        \n",
    "def printStar_recur(n):\n",
    "    if n > 0:\n",
    "        printStar_recur(n-1)\n",
    "        print(\"$\" * n)\n",
    "\n",
    "if __name__ == \"__main__\":\n",
    "    num = int(input(\"임의의 숫자를 입력하세요: \"))\n",
    "    \n",
    "    result1 = addNum_loop(num)\n",
    "    result2 = addNum_recur(num)\n",
    "    printStar_loop(num)\n",
    "    print()\n",
    "    printStar_recur(num)"
   ]
  },
  {
   "cell_type": "code",
   "execution_count": 31,
   "id": "ecd247fe",
   "metadata": {},
   "outputs": [
    {
     "data": {
      "text/plain": [
       "[0, 0, 0, 0, 0, 0, 0, 0, 0, 0]"
      ]
     },
     "execution_count": 31,
     "metadata": {},
     "output_type": "execute_result"
    }
   ],
   "source": [
    "fibo = [0] * 10\n",
    "fibo"
   ]
  },
  {
   "cell_type": "code",
   "execution_count": 36,
   "id": "911636ac",
   "metadata": {},
   "outputs": [
    {
     "name": "stdout",
     "output_type": "stream",
     "text": [
      "피보나치 수열의 몇 번째 항을 계산할까요? 4\n",
      "4번째 피보나치 수는 3입니다.\n",
      "\n",
      "4번째 피보나치 수는 3입니다.\n"
     ]
    }
   ],
   "source": [
    "### 문제: 피보나치 수열의 n번째 항을 계산 (code10-10.py)\n",
    "# 반복문을 사용한 함수의 시간복잡도: 0(n)\n",
    "# 반복문을 사용한 함수의 공간복잡도: 0(1)\n",
    "\n",
    "# 재귀호출을 사용한 함수의 시간복잡도: 0(2^n)\n",
    "# 재귀호출을 사용한 함수의 공간복잡도: 0(2^n)\n",
    "\n",
    "def fibo_loop(n): # DP 동적계획법\n",
    "    if n == 0:\n",
    "        return 0\n",
    "    elif n == 1:\n",
    "        return 1\n",
    "    \n",
    "    # 메모리 생성: 피보나치 수열 초기화\n",
    "    fib =[0] * (n+1)\n",
    "    fib[1] = 1\n",
    "    \n",
    "    # 3번째 항부터 규칙 적용\n",
    "    for i in range(2, n+1):\n",
    "        fib[i] = fib[i - 1] + fib[i - 2]\n",
    "        \n",
    "    return fib[n]\n",
    "    \n",
    "def fibo_recur(n):\n",
    "    # base case\n",
    "    if n == 0:\n",
    "        return 0\n",
    "    elif n == 1:\n",
    "        return 1\n",
    "    else: # 3번째 항부터\n",
    "        return fibo_recur(n - 1) + fibo_recur(n - 2)\n",
    "\n",
    "if __name__ == \"__main__\":\n",
    "    num = int(input(\"피보나치 수열의 몇 번째 항을 계산할까요? \"))\n",
    "    result = fibo_loop(num)\n",
    "    print(f\"{num}번째 피보나치 수는 {result}입니다.\")\n",
    "    print()\n",
    "    result = fibo_recur(num)\n",
    "    print(f\"{num}번째 피보나치 수는 {result}입니다.\")"
   ]
  },
  {
   "cell_type": "code",
   "execution_count": 40,
   "id": "08711933",
   "metadata": {},
   "outputs": [
    {
     "name": "stdout",
     "output_type": "stream",
     "text": [
      "2^4\n",
      "답 -->  16\n",
      "\n",
      "답 -->  16\n",
      "\n",
      "답 -->  16\n",
      "\n"
     ]
    }
   ],
   "source": [
    "### 문제: N제곱 계산하기 (code10-8.py-효율적)\n",
    "# 반복문을 사용한 함수의 시간복잡도: 0(n)\n",
    "# 반복문을 사용한 함수의 공간복잡도: 0(1)\n",
    "# 재귀호출을 사용한 함수의 시간복잡도: 0(n)\n",
    "# 재귀호출을 사용한 함수의 공간복잡도: 0(n)\n",
    "# 성능이 향상된 재귀호출을 사용한 함수의 시간복잡도: 0(log n)\n",
    "# 성능이 향상된 재귀호출을 사용한 함수의 공간복잡도: 0(log n)\n",
    "\n",
    "def pow_loop(base, exponent):\n",
    "    result = 1\n",
    "    \n",
    "    for i in range(exponent):\n",
    "        result *= base\n",
    "        \n",
    "    return result\n",
    "\n",
    "def pow_recur(base, exponent):\n",
    "    \n",
    "    # base case\n",
    "    if exponent == 0:\n",
    "        return 1\n",
    "    \n",
    "    return base * pow_recur(base, exponent-1)\n",
    "\n",
    "def pow_recur_improved(base, exponent):\n",
    "    # base case\n",
    "    if exponent == 0:\n",
    "        return 1\n",
    "    \n",
    "    if exponent % 2 == 0: # even case\n",
    "        temp = pow_recur_improved(base, exponent // 2) # 2^10 = 2^5 * 2^5\n",
    "        return temp * temp\n",
    "    else: # odd case\n",
    "        temp = pow_recur_improved(base, (exponent - 1)// 2)\n",
    "        return base * temp * temp # 2^9 = 2 * 2^4 * 2^4\n",
    "    \n",
    "    \n",
    "if __name__ == \"__main__\":\n",
    "    print('2^4')\n",
    "    print('답 --> ', pow_loop(2, 4))\n",
    "    print()\n",
    "    print('답 --> ', pow_recur(2, 4))\n",
    "    print()\n",
    "    print('답 --> ', pow_recur_improved(2, 4))\n",
    "    print()"
   ]
  },
  {
   "cell_type": "code",
   "execution_count": null,
   "id": "885bad74",
   "metadata": {},
   "outputs": [],
   "source": []
  }
 ],
 "metadata": {
  "kernelspec": {
   "display_name": "Python 3 (ipykernel)",
   "language": "python",
   "name": "python3"
  },
  "language_info": {
   "codemirror_mode": {
    "name": "ipython",
    "version": 3
   },
   "file_extension": ".py",
   "mimetype": "text/x-python",
   "name": "python",
   "nbconvert_exporter": "python",
   "pygments_lexer": "ipython3",
   "version": "3.10.9"
  }
 },
 "nbformat": 4,
 "nbformat_minor": 5
}
