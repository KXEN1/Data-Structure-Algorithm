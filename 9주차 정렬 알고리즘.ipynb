{
 "cells": [
  {
   "cell_type": "markdown",
   "id": "df85d1cc",
   "metadata": {},
   "source": [
    "# 1. selection Sort\n",
    "- O(n^2) 시간복잡도\n",
    "- O(1) 공간복잡도"
   ]
  },
  {
   "cell_type": "code",
   "execution_count": 43,
   "id": "bd2d7eb7",
   "metadata": {},
   "outputs": [
    {
     "name": "stdout",
     "output_type": "stream",
     "text": [
      "정렬 전 -->  [34, 145, 195, 16, 65, 30, 126, 194, 115, 120]\n",
      "정렬 후 -->  [16, 30, 34, 65, 115, 120, 126, 145, 194, 195]\n",
      "총 비교연산 횟수: 0\n"
     ]
    }
   ],
   "source": [
    "# 11-3.py 개선된 선택 정렬\n",
    "import random\n",
    "\n",
    "def selectionSort(ary):\n",
    "    global count\n",
    "    n = len(ary)\n",
    "    \n",
    "    for i in range(0, n-1):\n",
    "        minidx = i\n",
    "        for k in range(i+1, n):\n",
    "            if ary[minidx]> ary[k]:\n",
    "                minidx = k\n",
    "                \n",
    "        tmp = ary[i]\n",
    "        ary[i] = ary[minidx]\n",
    "        ary[minidx] = tmp\n",
    "        \n",
    "    return ary\n",
    "                \n",
    " # 전역 변수\n",
    "random.seed(1)\n",
    "dataAry = [random.randint(0,200) for _ in range(10)]\n",
    "count = 0\n",
    "\n",
    "# 정렬 함수 사용하여 정렬\n",
    "print('정렬 전 --> ', dataAry)\n",
    "\n",
    "dataAry = selectionSort(dataAry)\n",
    "\n",
    "print('정렬 후 --> ', dataAry)\n",
    "\n",
    "print('총 비교연산 횟수:', count)"
   ]
  },
  {
   "cell_type": "markdown",
   "id": "af8e1faa",
   "metadata": {},
   "source": [
    "# 2. insertion Sort\n",
    "- O(n^2)\n",
    "- O(1)"
   ]
  },
  {
   "cell_type": "code",
   "execution_count": 39,
   "id": "1e938b85",
   "metadata": {},
   "outputs": [
    {
     "name": "stdout",
     "output_type": "stream",
     "text": [
      "정렬 전 -->  [34, 145, 195, 16, 65, 30, 126, 194, 115, 120]\n",
      "정렬 후 -->  [16, 30, 34, 65, 115, 120, 126, 145, 194, 195]\n",
      "총 비교연산 횟수: 45\n"
     ]
    }
   ],
   "source": [
    "# 11-06.py: 효율적 코드\n",
    "# 랜덤하게 0과 200 사이의 숫자 20개를 생성한 후\n",
    "# 몇 번 만에 정렬했는지 횟수를 출력\n",
    "import random\n",
    "\n",
    "def insertionSort(ary):\n",
    "    global count\n",
    "    n = len(ary)\n",
    "    for end in range(1, n):\n",
    "        for cur in range(end ,0, -1):\n",
    "            count += 1\n",
    "            if ary[cur-1] > ary[cur]:\n",
    "                ary[cur-1], ary[cur] = ary[cur], ary[cur-1]\n",
    "    return ary\n",
    "\n",
    " # 전역 변수\n",
    "random.seed(1)\n",
    "dataAry = [random.randint(0,200)for _ in range(10)]\n",
    "count = 0\n",
    "\n",
    "# 정렬 함수 사용하여 정렬\n",
    "print('정렬 전 --> ', dataAry)\n",
    "\n",
    "dataAry = insertionSort(dataAry)\n",
    "\n",
    "print('정렬 후 --> ', dataAry)\n",
    "\n",
    "print('총 비교연산 횟수:', count)"
   ]
  },
  {
   "cell_type": "markdown",
   "id": "c3ab6478",
   "metadata": {},
   "source": [
    "# #. 문제: 파일에서 데이터를 읽어오고 삽입 정렬"
   ]
  },
  {
   "cell_type": "code",
   "execution_count": 37,
   "id": "3f2fc417",
   "metadata": {},
   "outputs": [
    {
     "ename": "FileNotFoundError",
     "evalue": "[Errno 2] No such file or directory: '/Desktop/universe/3-2/컴퓨터 알고리즘/data.txt'",
     "output_type": "error",
     "traceback": [
      "\u001b[0;31m---------------------------------------------------------------------------\u001b[0m",
      "\u001b[0;31mFileNotFoundError\u001b[0m                         Traceback (most recent call last)",
      "Cell \u001b[0;32mIn[37], line 29\u001b[0m\n\u001b[1;32m     26\u001b[0m file_name \u001b[38;5;241m=\u001b[39m \u001b[38;5;124m\"\u001b[39m\u001b[38;5;124m/Desktop/universe/3-2/컴퓨터 알고리즘/data.txt\u001b[39m\u001b[38;5;124m\"\u001b[39m\n\u001b[1;32m     28\u001b[0m \u001b[38;5;66;03m# 파일로부터 데이터셋 불러오기\u001b[39;00m\n\u001b[0;32m---> 29\u001b[0m dataAry \u001b[38;5;241m=\u001b[39m \u001b[43mread_data_from_file\u001b[49m\u001b[43m(\u001b[49m\u001b[43mfile_name\u001b[49m\u001b[43m)\u001b[49m\n\u001b[1;32m     31\u001b[0m \u001b[38;5;66;03m# 정렬 함수 사용하여 정렬\u001b[39;00m\n\u001b[1;32m     32\u001b[0m \u001b[38;5;28mprint\u001b[39m(\u001b[38;5;124m'\u001b[39m\u001b[38;5;124m정렬 전 --> \u001b[39m\u001b[38;5;124m'\u001b[39m, dataAry)\n",
      "Cell \u001b[0;32mIn[37], line 13\u001b[0m, in \u001b[0;36mread_data_from_file\u001b[0;34m(file_name)\u001b[0m\n\u001b[1;32m     12\u001b[0m \u001b[38;5;28;01mdef\u001b[39;00m \u001b[38;5;21mread_data_from_file\u001b[39m(file_name):\n\u001b[0;32m---> 13\u001b[0m     \u001b[38;5;28;01mwith\u001b[39;00m \u001b[38;5;28;43mopen\u001b[39;49m\u001b[43m(\u001b[49m\u001b[43mfile_name\u001b[49m\u001b[43m,\u001b[49m\u001b[43m \u001b[49m\u001b[38;5;124;43m'\u001b[39;49m\u001b[38;5;124;43mr\u001b[39;49m\u001b[38;5;124;43m'\u001b[39;49m\u001b[43m)\u001b[49m \u001b[38;5;28;01mas\u001b[39;00m f:\n\u001b[1;32m     14\u001b[0m         data \u001b[38;5;241m=\u001b[39m f\u001b[38;5;241m.\u001b[39mread()\u001b[38;5;241m.\u001b[39msplit() \u001b[38;5;66;03m# list\u001b[39;00m\n\u001b[1;32m     15\u001b[0m         data \u001b[38;5;241m=\u001b[39m [\u001b[38;5;28mint\u001b[39m(num) \u001b[38;5;28;01mfor\u001b[39;00m num \u001b[38;5;129;01min\u001b[39;00m data]\n",
      "File \u001b[0;32m~/anaconda3/lib/python3.10/site-packages/IPython/core/interactiveshell.py:286\u001b[0m, in \u001b[0;36m_modified_open\u001b[0;34m(file, *args, **kwargs)\u001b[0m\n\u001b[1;32m    279\u001b[0m \u001b[38;5;28;01mif\u001b[39;00m file \u001b[38;5;129;01min\u001b[39;00m {\u001b[38;5;241m0\u001b[39m, \u001b[38;5;241m1\u001b[39m, \u001b[38;5;241m2\u001b[39m}:\n\u001b[1;32m    280\u001b[0m     \u001b[38;5;28;01mraise\u001b[39;00m \u001b[38;5;167;01mValueError\u001b[39;00m(\n\u001b[1;32m    281\u001b[0m         \u001b[38;5;124mf\u001b[39m\u001b[38;5;124m\"\u001b[39m\u001b[38;5;124mIPython won\u001b[39m\u001b[38;5;124m'\u001b[39m\u001b[38;5;124mt let you open fd=\u001b[39m\u001b[38;5;132;01m{\u001b[39;00mfile\u001b[38;5;132;01m}\u001b[39;00m\u001b[38;5;124m by default \u001b[39m\u001b[38;5;124m\"\u001b[39m\n\u001b[1;32m    282\u001b[0m         \u001b[38;5;124m\"\u001b[39m\u001b[38;5;124mas it is likely to crash IPython. If you know what you are doing, \u001b[39m\u001b[38;5;124m\"\u001b[39m\n\u001b[1;32m    283\u001b[0m         \u001b[38;5;124m\"\u001b[39m\u001b[38;5;124myou can use builtins\u001b[39m\u001b[38;5;124m'\u001b[39m\u001b[38;5;124m open.\u001b[39m\u001b[38;5;124m\"\u001b[39m\n\u001b[1;32m    284\u001b[0m     )\n\u001b[0;32m--> 286\u001b[0m \u001b[38;5;28;01mreturn\u001b[39;00m \u001b[43mio_open\u001b[49m\u001b[43m(\u001b[49m\u001b[43mfile\u001b[49m\u001b[43m,\u001b[49m\u001b[43m \u001b[49m\u001b[38;5;241;43m*\u001b[39;49m\u001b[43margs\u001b[49m\u001b[43m,\u001b[49m\u001b[43m \u001b[49m\u001b[38;5;241;43m*\u001b[39;49m\u001b[38;5;241;43m*\u001b[39;49m\u001b[43mkwargs\u001b[49m\u001b[43m)\u001b[49m\n",
      "\u001b[0;31mFileNotFoundError\u001b[0m: [Errno 2] No such file or directory: '/Desktop/universe/3-2/컴퓨터 알고리즘/data.txt'"
     ]
    }
   ],
   "source": [
    "def insertionSort(ary):\n",
    "    global count\n",
    "    n = len(ary)\n",
    "    for end in range(1, n):\n",
    "        for cur in range(end ,0, -1):\n",
    "            count += 1\n",
    "            if ary[cur-1] > ary[cur]:\n",
    "                ary[cur-1], ary[cur] = ary[cur], ary[cur-1]\n",
    "    return ary\n",
    "\n",
    "# 파일에서 데이터 읽어오기\n",
    "def read_data_from_file(file_name):\n",
    "    with open(file_name, 'r') as f:\n",
    "        data = f.read().split() # list\n",
    "        data = [int(num) for num in data]\n",
    "        return data\n",
    "    \n",
    "# 파일에 데이터 저장\n",
    "\n",
    "def save_data_to_file(file_name, data):\n",
    "    with open(file_name, 'w') as f:\n",
    "        for num in data:\n",
    "            f.write(str(num) + ' ')\n",
    "            \n",
    "# 전역변수 선언\n",
    "file_name = \"파일 주소\"\n",
    "\n",
    "# 파일로부터 데이터셋 불러오기\n",
    "dataAry = read_data_from_file(file_name)\n",
    "\n",
    "# 정렬 함수 사용하여 정렬\n",
    "print('정렬 전 --> ', dataAry)\n",
    "\n",
    "dataAry = insertionSort(dataAry)\n",
    "\n",
    "print('정렬 후 --> ', dataAry) \n",
    "\n",
    "# sorted data를 파일로 저장\n",
    "save_data_to_file(\"파일 주소\", dataAry)\n"
   ]
  },
  {
   "cell_type": "markdown",
   "id": "1ccf8828",
   "metadata": {},
   "source": [
    "# 3. Bubble sort\n",
    "- O(n^2)\n",
    "- O(1)"
   ]
  },
  {
   "cell_type": "code",
   "execution_count": 48,
   "id": "c2d746cd",
   "metadata": {},
   "outputs": [
    {
     "name": "stdout",
     "output_type": "stream",
     "text": [
      "정렬 전 -->  [34, 145, 195, 16, 65]\n",
      "4 : [34, 145, 195, 16, 65]\n",
      "3 : [34, 145, 16, 65, 195]\n",
      "2 : [34, 16, 65, 145, 195]\n",
      "1 : [16, 34, 65, 145, 195]\n",
      "정렬 후 -->  [16, 34, 65, 145, 195]\n"
     ]
    }
   ],
   "source": [
    "# 12-1.py\n",
    "import random\n",
    "\n",
    "def BubbleSort(ary):\n",
    "    n = len(ary)\n",
    "    for end in range(n-1, 0, -1):\n",
    "        print(end, \":\", ary)\n",
    "        for cur in range(0,end):\n",
    "            if (ary[cur] > ary[cur+1]):\n",
    "                ary[cur], ary[cur+1] = ary[cur+1], ary[cur]\n",
    "    return ary\n",
    "\n",
    "# 전역 변수\n",
    "random.seed(1)\n",
    "dataAry = [random.randint(0,200)for _ in range(5)]\n",
    "\n",
    "# 정렬 함수 사용하여 정렬\n",
    "print('정렬 전 --> ', dataAry)\n",
    "dataAry = BubbleSort(dataAry)\n",
    "print('정렬 후 --> ', dataAry)\n"
   ]
  },
  {
   "cell_type": "markdown",
   "id": "efdbc63d",
   "metadata": {},
   "source": [
    "# 3. Bubble sort(2): 일부가 정렬된 데이터 셋\n",
    "- O(n)\n",
    "- O(1)"
   ]
  },
  {
   "cell_type": "code",
   "execution_count": 63,
   "id": "e0927f1c",
   "metadata": {},
   "outputs": [
    {
     "name": "stdout",
     "output_type": "stream",
     "text": [
      "정렬 전 -->  [34, 145, 195, 16, 65, 30, 126]\n",
      "#cycle=>  [34, 145, 195, 16, 65, 30, 126]\n",
      "#cycle=>  [34, 145, 195, 16, 65, 30, 126]\n",
      "#cycle=>  [34, 145, 195, 16, 65, 30, 126]\n",
      "#cycle=>  [34, 145, 195, 16, 65, 30, 126]\n",
      "#cycle=>  [34, 145, 195, 16, 65, 30, 126]\n",
      "#cycle=>  [34, 145, 195, 16, 65, 30, 126]\n",
      "정렬 후 -->  [34, 145, 195, 16, 65, 30, 126]\n"
     ]
    }
   ],
   "source": [
    "# 12-2.py\n",
    "import random\n",
    "\n",
    "def BubbleSort(ary):\n",
    "    n = len(ary)\n",
    "    for end in range(n-1, 0, -1):\n",
    "        changeYN = False\n",
    "        print(\"#cycle=> \", ary)\n",
    "        for cur in range(0,end):\n",
    "            if (ary[cur] > ary[cur+1]):\n",
    "                ary[cur], ary[cur+1] = ary[cur+1], ary[cur]\n",
    "                changeYN = True\n",
    "            \n",
    "            if not changeYN:\n",
    "                break\n",
    "    return ary\n",
    "\n",
    "# 전역 변수\n",
    "random.seed(1)\n",
    "dataAry = [random.randint(0,200)for _ in range(7)]\n",
    "\n",
    "# 정렬 함수 사용하여 정렬\n",
    "print('정렬 전 --> ', dataAry)\n",
    "dataAry = BubbleSort(dataAry)\n",
    "print('정렬 후 --> ', dataAry)\n"
   ]
  },
  {
   "cell_type": "markdown",
   "id": "bf955d98",
   "metadata": {},
   "source": [
    "# 4. QuickSort: 포인터 사용\n",
    "- 분할정복\n",
    "- 피봇\n",
    "- 파티션: 피봇을 기준으로 분할\n",
    "- 재귀호출: 부분 배열을 정렬"
   ]
  },
  {
   "cell_type": "code",
   "execution_count": 5,
   "id": "c392be35",
   "metadata": {},
   "outputs": [
    {
     "name": "stdout",
     "output_type": "stream",
     "text": [
      "정렬 전 --> [188, 150, 168, 162, 105, 120, 177, 50]\n",
      "피봇: 162\n",
      "분할값: 162\n",
      "피봇: 150\n",
      "분할값: 150\n",
      "피봇: 105\n",
      "분할값: 120\n",
      "피봇: 50\n",
      "분할값: 105\n",
      "피봇: 177\n",
      "분할값: 188\n",
      "피봇: 168\n",
      "분할값: 177\n",
      "정렬 후--> [50, 105, 120, 150, 162, 168, 177, 188]\n"
     ]
    }
   ],
   "source": [
    "def quickSort(arr, start, end):\n",
    "    if end <= start: #base case\n",
    "        return # 정렬된 상태\n",
    "    global count\n",
    "    low = start\n",
    "    high = end\n",
    "    \n",
    "    count += 1\n",
    "    pivot = arr[(start+end) // 2]\n",
    "    \n",
    "    while low <= high:\n",
    "        while arr[low] < pivot:\n",
    "            low += 1\n",
    "            \n",
    "        while arr[high] > pivot:\n",
    "            high -= 1\n",
    "            \n",
    "        if low <= high:\n",
    "            arr[low], arr[high] = arr[high], arr[low]\n",
    "            low, high = low + 1, high - 1\n",
    "            \n",
    "    mid = low # pivot\n",
    "    \n",
    "    #print('##', count, \"회 로 정렬 완성\")\n",
    "    print(\"피봇:\", pivot)\n",
    "    print(\"분할값:\", arr[mid])\n",
    "    \n",
    "    \n",
    "    quickSort(arr, start, mid-1) # left ary\n",
    "    quickSort(arr, mid+1, end) # right ary\n",
    "    \n",
    "## 전역 변수 선언 부분 ##\n",
    "dataAry = [188,150, 168, 162, 105, 120, 177, 50]\n",
    "count = 0\n",
    "print('정렬 전 -->', dataAry)\n",
    "quickSort(dataAry, 0, len(dataAry)-1)\n",
    "print('정렬 후-->', dataAry)\n",
    "    "
   ]
  },
  {
   "cell_type": "markdown",
   "id": "140c9053",
   "metadata": {},
   "source": [
    "# #.문제: 임의의 배열에 대해 선택 정렬과 퀵 정렬의 성능을 비교"
   ]
  },
  {
   "cell_type": "code",
   "execution_count": 1,
   "id": "64ba38d7",
   "metadata": {},
   "outputs": [
    {
     "name": "stdout",
     "output_type": "stream",
     "text": [
      "## 데이터 수:  1000 개\n",
      "선택 정렬 -->      0.057 초\n",
      "퀵 정렬 -->      0.002 초\n",
      "\n",
      "## 데이터 수:  10000 개\n",
      "선택 정렬 -->      4.666 초\n",
      "퀵 정렬 -->      0.028 초\n",
      "\n",
      "## 데이터 수:  12000 개\n",
      "선택 정렬 -->      6.820 초\n",
      "퀵 정렬 -->      0.035 초\n",
      "\n",
      "## 데이터 수:  15000 개\n",
      "선택 정렬 -->     10.460 초\n",
      "퀵 정렬 -->      0.044 초\n",
      "\n"
     ]
    }
   ],
   "source": [
    "# 응용예제 01: 선택정렬과 퀵정렬의 성능 비교\n",
    "# 무작위로 생성된 배열을 정렬하고 실행 시간을 측정하여 두 정렬 알고리즘의 성능 비교\n",
    "import random, time\n",
    "\n",
    "def selectionSort(ary):\n",
    "    n = len(ary)\n",
    "    \n",
    "    for i in range(0, n-1):\n",
    "        minidx = i\n",
    "        for k in range(i+1, n):\n",
    "            if ary[minidx]> ary[k]:\n",
    "                minidx = k\n",
    "        \n",
    "    return ary\n",
    "\n",
    "def quickSort(arr, start, end):\n",
    "    if end <= start: #base case\n",
    "        return # 정렬된 상태\n",
    "    global count\n",
    "    low = start\n",
    "    high = end\n",
    "    \n",
    "    count += 1\n",
    "    pivot = arr[(start+end) // 2]\n",
    "    \n",
    "    while low <= high:\n",
    "        while arr[low] < pivot:\n",
    "            low += 1\n",
    "            \n",
    "        while arr[high] > pivot:\n",
    "            high -= 1\n",
    "            \n",
    "        if low <= high:\n",
    "            arr[low], arr[high] = arr[high], arr[low]\n",
    "            low, high = low + 1, high - 1\n",
    "            \n",
    "    mid = low # pivot\n",
    "    \n",
    "    quickSort(arr, start, mid-1) # left ary\n",
    "    quickSort(arr, mid, end) # right ary\n",
    "    \n",
    "## 메인 코드 부분 ##\n",
    "countAry = [1000, 10000, 12000, 15000]\n",
    "for count in countAry:\n",
    "    tempAry = [random.randint(10000, 99999) for _ in range(count)]\n",
    "    selectAry = tempAry[:]\n",
    "    quickAry = tempAry[:]\n",
    "    \n",
    "    print(\"## 데이터 수: \", count, \"개\")\n",
    "    start = time.time()\n",
    "    selectionSort(selectAry)\n",
    "    end = time.time()\n",
    "    print(\"선택 정렬 --> %10.3f 초\" % (end-start))\n",
    "\n",
    "    start = time.time()\n",
    "    quickSort(quickAry, 0, len(quickAry)-1)\n",
    "    end = time.time()\n",
    "    print(\"퀵 정렬 --> %10.3f 초\" % (end-start))\n",
    "    print()"
   ]
  },
  {
   "cell_type": "markdown",
   "id": "9fa38575",
   "metadata": {},
   "source": [
    "# #. 문제: 정렬된 배열에 대해 버블 정렬과 퀵 정렬의 성능을 비교"
   ]
  },
  {
   "cell_type": "code",
   "execution_count": 2,
   "id": "8259f0c5",
   "metadata": {},
   "outputs": [
    {
     "name": "stdout",
     "output_type": "stream",
     "text": [
      "# 데이터 개수 -->  100000\n",
      "# 끼어든 위치 -->  26517\n",
      "다시 정렬 시간(버블 정렬) -->      0.039 초\n",
      "다시 정렬 시간(퀵 정렬) -->      0.230 초\n"
     ]
    }
   ],
   "source": [
    "# 응용예제 02: 이미 정렬된 줄에 끼어들기\n",
    "# 배열이 이미 정렬된 상태에서 마지막 값이 아무 위치에나 끼어들 때, 다시 정렬하는 효율적인 방법은?\n",
    "# 일반적인 상태에서 성능이 뛰어난 퀵정렬과 대부분의 데이터가 정렬된 상태에서 효율적인 버블정렬을 사용하여 비교\n",
    "import random, time\n",
    "\n",
    "def quickSort(arr, start, end):\n",
    "    if end <= start: #base case\n",
    "        return # 정렬된 상태\n",
    "    global count\n",
    "    low = start\n",
    "    high = end\n",
    "    \n",
    "    count += 1\n",
    "    pivot = arr[(start+end) // 2]\n",
    "    \n",
    "    while low <= high:\n",
    "        while arr[low] < pivot:\n",
    "            low += 1\n",
    "            \n",
    "        while arr[high] > pivot:\n",
    "            high -= 1\n",
    "            \n",
    "        if low <= high:\n",
    "            arr[low], arr[high] = arr[high], arr[low]\n",
    "            low, high = low + 1, high - 1\n",
    "            \n",
    "    mid = low # pivot\n",
    "    \n",
    "    quickSort(arr, start, mid-1) # left ary\n",
    "    quickSort(arr, mid, end) # right ary\n",
    "    \n",
    "def BubbleSort(ary):\n",
    "    n = len(ary)\n",
    "    for end in range(n-1, 0, -1):\n",
    "        changeYN = False\n",
    "        for cur in range(0,end):\n",
    "            if (ary[cur] > ary[cur+1]):\n",
    "                ary[cur], ary[cur+1] = ary[cur+1], ary[cur]\n",
    "                changeYN = True\n",
    "            \n",
    "            if not changeYN:\n",
    "                break\n",
    "    return ary\n",
    "\n",
    "## 메인 코드 부분 ##\n",
    "# 정렬된 배열\n",
    "tempAry = [random.randint(10000,99999) for _ in range(100000)] # 1000000\n",
    "tempAry.sort() # 정렬하기\n",
    "\n",
    "# 정렬된 배열의 임의의 위치에 새 데이터 추가\n",
    "rndPos = random.randint(0, len(tempAry)-1)\n",
    "print(\"# 데이터 개수 --> \", len(tempAry))\n",
    "print(\"# 끼어든 위치 --> \", rndPos)\n",
    "tempAry.insert(rndPos, tempAry[-1])\n",
    "\n",
    "# 다시 정렬하기\n",
    "bubbleAry = tempAry[:]\n",
    "quickAry = tempAry[:]\n",
    "\n",
    "# 성능 측정\n",
    "start = time.time()\n",
    "BubbleSort(bubbleAry)\n",
    "end = time.time()\n",
    "print(\"다시 정렬 시간(버블 정렬) --> %10.3f 초\" % (end-start))\n",
    "\n",
    "start = time.time()\n",
    "quickSort(quickAry, 0, len(quickAry)-1)\n",
    "end = time.time()\n",
    "print(\"다시 정렬 시간(퀵 정렬) --> %10.3f 초\" % (end-start))"
   ]
  },
  {
   "cell_type": "code",
   "execution_count": null,
   "id": "5345cee3",
   "metadata": {},
   "outputs": [],
   "source": []
  }
 ],
 "metadata": {
  "kernelspec": {
   "display_name": "Python 3 (ipykernel)",
   "language": "python",
   "name": "python3"
  },
  "language_info": {
   "codemirror_mode": {
    "name": "ipython",
    "version": 3
   },
   "file_extension": ".py",
   "mimetype": "text/x-python",
   "name": "python",
   "nbconvert_exporter": "python",
   "pygments_lexer": "ipython3",
   "version": "3.10.9"
  }
 },
 "nbformat": 4,
 "nbformat_minor": 5
}
